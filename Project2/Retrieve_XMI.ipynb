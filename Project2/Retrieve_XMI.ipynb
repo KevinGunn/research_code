{
 "cells": [
  {
   "cell_type": "code",
   "execution_count": 1,
   "metadata": {
    "collapsed": false
   },
   "outputs": [],
   "source": [
    "# Needed Modules\n",
    "import os\n",
    "import logging\n",
    "import codecs\n",
    "import inspect\n",
    "import glob\n",
    "\n",
    "from xml.dom.minidom import parse\n",
    "from subprocess import call"
   ]
  },
  {
   "cell_type": "code",
   "execution_count": 2,
   "metadata": {
    "collapsed": true
   },
   "outputs": [],
   "source": [
    "# parse_output function is based on code provided by Pascal Pfiffner.\n",
    "# Link to code: https://github.com/p2/ClinicalTrialsNLP/blob/master/ctakes.py"
   ]
  },
  {
   "cell_type": "code",
   "execution_count": 3,
   "metadata": {
    "collapsed": true
   },
   "outputs": [],
   "source": [
    "def parse_output(filename):\n",
    "  \n",
    "    # parse XMI file\n",
    "    root = parse(filename).documentElement\n",
    "\n",
    "    # get all \"textsem:*\" for disease and medicines which store negation information.\n",
    "    neg_ids = []\n",
    "    for node in root.getElementsByTagName('textsem:DiseaseDisorderMention') or root.getElementsByTagName('textsem:MedicineMention'):\n",
    "        polarity = node.attributes.get('polarity')\n",
    "        #print(polarity.value)\n",
    "        if polarity is not None and int(polarity.value) == 0:\n",
    "            ids = node.attributes.get('ontologyConceptArr')\n",
    "            if ids is not None and ids.value:\n",
    "                neg_ids.extend([int(i) for i in ids.value.split()])\n",
    "    \n",
    "    # Parse cTAKES XMI output. \n",
    "    snomeds = []\n",
    "    cuis = []\n",
    "    rxnorms = []\n",
    "    # UMLS as dictionary to match with cui's.\n",
    "    #umls_ids = {}\n",
    "\n",
    "    # pluck apart nodes that carry codified data (\"refsem:UmlsConcept\" namespace)\n",
    "    code_nodes = root.getElementsByTagNameNS('http:///org/apache/ctakes/typesystem/type/refsem.ecore', '*')\n",
    "    #print(code_nodes)\n",
    "    if len(code_nodes) > 0:\n",
    "        for node in code_nodes:\n",
    "            #print node.toprettyxml()\n",
    "            #print(node.attributes.keys())\n",
    "            # check if this node is negated\n",
    "            is_neg = False\n",
    "            node_id_attr = node.attributes.get('xmi:id')\n",
    "            if node_id_attr is not None:\n",
    "                is_neg = int(node_id_attr.value) in neg_ids\n",
    "                # extract SNOMED and RxNORM\n",
    "                if 'codingScheme' in node.attributes.keys() \\\n",
    "                    and 'code' in node.attributes.keys():\n",
    "                        code = node.attributes['code'].value\n",
    "                        if is_neg:\n",
    "                            code = \"-%s\" % code\n",
    "\n",
    "                        # extract SNOMED code\n",
    "                        if 'SNOMEDCT_US' == node.attributes['codingScheme'].value \\\n",
    "                            and 'preferredText' in node.attributes.keys(): \n",
    "                                snomeds.append( node.attributes['preferredText'].value )\n",
    "\n",
    "                        # extract RXNORM code\n",
    "                        elif 'RXNORM' == node.attributes['codingScheme'].value \\\n",
    "                            and 'preferredText' in node.attributes.keys(): \n",
    "                            rxnorms.append( node.attributes['preferredText'].value )\n",
    "\n",
    "                # extract UMLS CUI\n",
    "                if 'cui' in node.attributes.keys():\n",
    "                    #print(node.attributes['preferredText'].value)\n",
    "                    #umls_ids[node.attributes['preferredText'].value] = node.attributes['cui'].value\n",
    "                    code = node.attributes['cui'].value\n",
    "                    cuis.append(code)\n",
    "                    if is_neg:\n",
    "                        code = \"-%s\" % code\n",
    "                        cuis.append(code)\n",
    "\n",
    "        # make lists unique\n",
    "        snomeds = list(set(snomeds))\n",
    "        rxnorms = list(set(rxnorms))\n",
    "        cuis = list(set(cuis))\n",
    "\n",
    "    # create and return a dictionary (don't filter empty lists)\n",
    "    ret = {\n",
    "        'snomed': snomeds,\n",
    "        'cui': cuis,\n",
    "        'rxnorm': rxnorms,\n",
    "        #'umls_ids': umls_ids\n",
    "        }\n",
    "\n",
    "    return ret"
   ]
  },
  {
   "cell_type": "code",
   "execution_count": 4,
   "metadata": {
    "collapsed": false
   },
   "outputs": [],
   "source": [
    "# Example of output.\n",
    "file1 = parse_output('D:\\\\Project2\\\\cTakes_out\\\\17_161087.txt.xmi')\n",
    "file2 = parse_output('D:\\\\Project2\\\\cTakes_out\\\\17_194023.txt.xmi')\n",
    "\n",
    "# Note this .txt file is missing the preferredText key for one SNOMED instance.\n",
    "#parse_output('D:\\\\Project2\\\\cTakes_out\\\\1606_198612.txt.xmi')\n",
    "#print(file1)"
   ]
  },
  {
   "cell_type": "code",
   "execution_count": 5,
   "metadata": {
    "collapsed": false
   },
   "outputs": [],
   "source": [
    "def intersect_icus(dic1, dic2):\n",
    "    # Function returns a tuple with diseases and medications from both visits of icu.\n",
    "    intersect = []\n",
    "    for key in dic1:\n",
    "        if key in dic2:\n",
    "            intersect.append(set(dic1[key]).intersection(dic2[key]))\n",
    "    return intersect "
   ]
  },
  {
   "cell_type": "code",
   "execution_count": 6,
   "metadata": {
    "collapsed": false,
    "scrolled": false
   },
   "outputs": [],
   "source": [
    "# Example\n",
    "#intersect_icus(file1,file2)"
   ]
  },
  {
   "cell_type": "code",
   "execution_count": 7,
   "metadata": {
    "collapsed": false
   },
   "outputs": [],
   "source": [
    "def id_match(str1, str2):\n",
    "    \n",
    "    str1_split = str1.split(\"_\")[1]\n",
    "    id1 = str1_split.split(\"\\\\\")[1]\n",
    "    \n",
    "    str2_split = str2.split(\"_\")[1]\n",
    "    id2 = str2_split.split(\"\\\\\")[1]\n",
    "\n",
    "    if id1 == id2:\n",
    "        id = id1\n",
    "    else:\n",
    "        id = None\n",
    "                \n",
    "    return(id)"
   ]
  },
  {
   "cell_type": "code",
   "execution_count": 8,
   "metadata": {
    "collapsed": true
   },
   "outputs": [],
   "source": [
    "def save_dict_to_file(dic):\n",
    "    f = open('D:\\\\Project2\\\\id_dict.txt','w')\n",
    "    f.write(str(dic))\n",
    "    f.close()\n",
    "    \n",
    "def load_dict_from_file():\n",
    "    f = open('D:\\\\Project2\\\\id_dict.txt','r')\n",
    "    data=f.read()\n",
    "    f.close()\n",
    "    return eval(data)"
   ]
  },
  {
   "cell_type": "code",
   "execution_count": 18,
   "metadata": {
    "collapsed": false
   },
   "outputs": [],
   "source": [
    "def main():\n",
    "    \n",
    "    #initial dictionaries\n",
    "    id_dict = {}\n",
    "    temp_dict_first = {}\n",
    "    temp_dict_second = {}\n",
    "  \n",
    "    note_ctakes_output_folder = os.path.join(\"D:\\\\\",'Project2','cTakes_out')\n",
    "    folder = glob.glob(os.path.join(note_ctakes_output_folder, '*.txt.xmi'))\n",
    "    sort_folder = sorted(folder)\n",
    "    #print(sort_folder[0])\n",
    "    for fp in sort_folder:\n",
    "        #print(fp)\n",
    "        \n",
    "        #parse file \n",
    "        ct_parse_dict = parse_output(fp)\n",
    "        \n",
    "        # if statement to fill dictionary. \n",
    "        if fp == sort_folder[0]:\n",
    "            temp_dict_first = ct_parse_dict\n",
    "            \n",
    "        else:\n",
    "            id_str = id_match(fp_old, fp)\n",
    "            temp_dict_second = ct_parse_dict \n",
    "            \n",
    "            if id_str != None:\n",
    "                #print(id_str)\n",
    "                # intersect\n",
    "                intersect_dict = intersect_icus(temp_dict_first, temp_dict_second)\n",
    "                \n",
    "                # Print to check number of values intersect.\n",
    "                #print( len(intersect_dict[0]) )\n",
    "                #print( len(temp_dict_first['snomed'] ) )\n",
    "                \n",
    "                # Note snomed, cui, and rxnorm are stored as tuple.\n",
    "                id_dict[id_str] = intersect_dict\n",
    "                \n",
    "            # Store current cTakes parse output to use for next iteration.\n",
    "            temp_dict_first = ct_parse_dict\n",
    "         \n",
    "        #store old file name \n",
    "        fp_old = fp\n",
    "        \n",
    "    # Save to text file.\n",
    "    save_dict_to_file(id_dict)\n",
    "        \n",
    "if __name__ == \"__main__\":\n",
    "    main()\n",
    "    #cProfile.run('main()') # if you want to do some profiling\n",
    "    \n"
   ]
  },
  {
   "cell_type": "code",
   "execution_count": 11,
   "metadata": {
    "collapsed": false
   },
   "outputs": [],
   "source": [
    "# Load dictionary from main().\n",
    "id_dict = load_dict_from_file()"
   ]
  },
  {
   "cell_type": "code",
   "execution_count": null,
   "metadata": {
    "collapsed": true
   },
   "outputs": [],
   "source": [
    "# Summarize results from new dictionary."
   ]
  },
  {
   "cell_type": "code",
   "execution_count": 9,
   "metadata": {
    "collapsed": false
   },
   "outputs": [],
   "source": [
    "#id_dict['10004'][2]"
   ]
  },
  {
   "cell_type": "code",
   "execution_count": 12,
   "metadata": {
    "collapsed": false
   },
   "outputs": [],
   "source": [
    "# Find most mentioned words/ids in id_dict.\n",
    "snomed_counts = {}\n",
    "cui_counts = {}\n",
    "rxnorm_counts = {}\n",
    "\n",
    "for id in id_dict.keys():\n",
    "    #print(id)\n",
    "    # Number of lists stored in each entry is 3\n",
    "    tup = (0,1,2)\n",
    "    for i in tup:\n",
    "        for phrase in id_dict[id][i]:\n",
    "            \n",
    "            if i == 0 and phrase not in snomed_counts:\n",
    "                snomed_counts[phrase] = 1\n",
    "            elif i == 0 and phrase in snomed_counts:\n",
    "                snomed_counts[phrase] += 1\n",
    "            elif i == 1 and phrase not in cui_counts:\n",
    "                cui_counts[phrase] = 1\n",
    "            elif i == 1 and phrase in cui_counts:\n",
    "                cui_counts[phrase] += 1\n",
    "            elif i == 2 and phrase not in rxnorm_counts:\n",
    "                rxnorm_counts[phrase] = 1\n",
    "            else:\n",
    "                rxnorm_counts[phrase] += 1\n",
    "                "
   ]
  },
  {
   "cell_type": "code",
   "execution_count": 21,
   "metadata": {
    "collapsed": false
   },
   "outputs": [],
   "source": [
    "# Sort the dictionaries by value\n",
    "def sort_count(dict, n_out):\n",
    "    lst = list()\n",
    "    for key, val in dict.items():\n",
    "        lst.append( (val, key) )\n",
    "\n",
    "    lst.sort(reverse=True)\n",
    "\n",
    "    for key, val in lst[:n_out] :\n",
    "        print(val, key)"
   ]
  },
  {
   "cell_type": "code",
   "execution_count": 30,
   "metadata": {
    "collapsed": false
   },
   "outputs": [
    {
     "name": "stdout",
     "output_type": "stream",
     "text": [
      "Services 4618\n",
      "Medical History 4617\n",
      "Pharmaceutical Preparations 4544\n",
      "Disease 4516\n",
      "Illness (finding) 4489\n",
      "PMH - past medical history 4306\n",
      "Diagnosis 4214\n",
      "Hypersensitivity 4157\n",
      "Patient date of birth 3940\n",
      "Birth 3939\n"
     ]
    }
   ],
   "source": [
    "# Sort the dictionaries by value\n",
    "sort_count(snomed_counts,10)"
   ]
  },
  {
   "cell_type": "code",
   "execution_count": 31,
   "metadata": {
    "collapsed": false
   },
   "outputs": [
    {
     "name": "stdout",
     "output_type": "stream",
     "text": [
      "C0557854 4618\n",
      "C0262926 4617\n",
      "C0013227 4544\n",
      "C0012634 4516\n",
      "C0221423 4489\n",
      "C0455458 4306\n",
      "C0011900 4214\n",
      "C0020517 4157\n",
      "C0421451 3940\n",
      "C0005615 3939\n"
     ]
    }
   ],
   "source": [
    "# cui counts\n",
    "sort_count(cui_counts,10)"
   ]
  },
  {
   "cell_type": "code",
   "execution_count": 32,
   "metadata": {
    "collapsed": false
   },
   "outputs": [
    {
     "name": "stdout",
     "output_type": "stream",
     "text": [
      "Tablet Dosage Form 3008\n",
      "Ethanol 2662\n",
      "Glucose 2618\n",
      "Aspirin 2433\n",
      "Sodium 2155\n",
      "Methacholine 2028\n",
      "capsule (pharmacologic) 1740\n",
      "Calcium 1574\n",
      "Metoprolol 1356\n",
      "Potassium 1052\n"
     ]
    }
   ],
   "source": [
    "# rxnorm counts\n",
    "sort_count(rxnorm_counts,10)"
   ]
  },
  {
   "cell_type": "code",
   "execution_count": 64,
   "metadata": {
    "collapsed": false
   },
   "outputs": [
    {
     "data": {
      "text/plain": [
       "{'Central Diabetes Insipidus': 1,\n",
       " 'Complications of Diabetes Mellitus': 2,\n",
       " 'Diabetes Insipidus': 11,\n",
       " 'Diabetes Mellitus': 1099,\n",
       " 'Diabetes Mellitus, Insulin-Dependent': 144,\n",
       " 'Diabetes Mellitus, Non-Insulin-Dependent': 383,\n",
       " 'Diabetes type': 20,\n",
       " 'Diabetic Diet': 8,\n",
       " 'Diabetic Foot': 3,\n",
       " 'Diabetic Ketoacidosis': 48,\n",
       " 'Diabetic Nephropathy': 7,\n",
       " 'Diabetic Neuropathies': 7,\n",
       " 'Diabetic Retinopathy': 12,\n",
       " 'Diabetic foot ulcer': 2,\n",
       " 'Gestational Diabetes': 3,\n",
       " 'Nephrogenic Diabetes Insipidus': 5}"
      ]
     },
     "execution_count": 64,
     "metadata": {},
     "output_type": "execute_result"
    }
   ],
   "source": [
    "# Undo comments to see counts.\n",
    "#snomed_counts\n",
    "#print(snomed_counts)\n",
    " \n",
    "\n",
    "# return counts for diabetes related illnesses.\n",
    "dict([ (k,v) for k,v in snomed_counts.items() if 'Diab' in k])"
   ]
  },
  {
   "cell_type": "code",
   "execution_count": 63,
   "metadata": {
    "collapsed": false
   },
   "outputs": [
    {
     "data": {
      "text/plain": [
       "{'Hypertensive Encephalopathy': 1,\n",
       " 'Hypertensive crisis': 1,\n",
       " 'Hypertensive disease': 2968,\n",
       " 'Hypertensive urgency': 7}"
      ]
     },
     "execution_count": 63,
     "metadata": {},
     "output_type": "execute_result"
    }
   ],
   "source": [
    "# return counts for Hypertension related illnesses.\n",
    "dict([ (k,v) for k,v in snomed_counts.items() if 'Hypertensive' in k])"
   ]
  },
  {
   "cell_type": "code",
   "execution_count": 65,
   "metadata": {
    "collapsed": false
   },
   "outputs": [
    {
     "data": {
      "text/plain": [
       "4634"
      ]
     },
     "execution_count": 65,
     "metadata": {},
     "output_type": "execute_result"
    }
   ],
   "source": [
    "# Total number of Patients.\n",
    "len(id_dict.keys())"
   ]
  },
  {
   "cell_type": "code",
   "execution_count": null,
   "metadata": {
    "collapsed": true
   },
   "outputs": [],
   "source": []
  },
  {
   "cell_type": "code",
   "execution_count": null,
   "metadata": {
    "collapsed": true
   },
   "outputs": [],
   "source": [
    "# Notes for future research:\n",
    "\n",
    "# Patient Disease and Treatment extraction:\n",
    "\n",
    "# 1. Find patients who visited the ICU two times and treated for same illness both times.\n",
    "        # Q: Should we care about time in between visits?\n",
    "    \n",
    "# 2. Extract Medicine that patient recieved while in ICU for both visits. Available through cTAKES using rxNORM concepts."
   ]
  },
  {
   "cell_type": "code",
   "execution_count": null,
   "metadata": {
    "collapsed": false
   },
   "outputs": [],
   "source": [
    "# Phenotype: Surrogate markers combine with treatment decision \n",
    "# Marker that it is probable they have disease and incorporate into decision function.\n",
    "\n",
    "# Anchor event."
   ]
  },
  {
   "cell_type": "code",
   "execution_count": 24,
   "metadata": {
    "collapsed": true
   },
   "outputs": [],
   "source": [
    "# Maximize time to return to icu. Delay return to icu visit as response variable. \n"
   ]
  },
  {
   "cell_type": "code",
   "execution_count": null,
   "metadata": {
    "collapsed": false
   },
   "outputs": [],
   "source": []
  },
  {
   "cell_type": "code",
   "execution_count": null,
   "metadata": {
    "collapsed": false
   },
   "outputs": [],
   "source": []
  },
  {
   "cell_type": "code",
   "execution_count": null,
   "metadata": {
    "collapsed": false
   },
   "outputs": [],
   "source": []
  },
  {
   "cell_type": "code",
   "execution_count": null,
   "metadata": {
    "collapsed": true
   },
   "outputs": [],
   "source": []
  }
 ],
 "metadata": {
  "kernelspec": {
   "display_name": "Python 3",
   "language": "python",
   "name": "python3"
  },
  "language_info": {
   "codemirror_mode": {
    "name": "ipython",
    "version": 3
   },
   "file_extension": ".py",
   "mimetype": "text/x-python",
   "name": "python",
   "nbconvert_exporter": "python",
   "pygments_lexer": "ipython3",
   "version": "3.6.0"
  }
 },
 "nbformat": 4,
 "nbformat_minor": 2
}
